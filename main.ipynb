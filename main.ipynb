{
 "cells": [
  {
   "cell_type": "code",
   "execution_count": 8,
   "id": "20d8c3a8",
   "metadata": {},
   "outputs": [],
   "source": [
    "from customtkinter import *\n",
    "from diffusers import StableDiffusionPipeline\n",
    "import torch\n",
    "from PIL import Image, ImageTk\n",
    "import tkinter as tk\n",
    "\n"
   ]
  },
  {
   "cell_type": "code",
   "execution_count": 9,
   "id": "58827171",
   "metadata": {},
   "outputs": [],
   "source": [
    "# Setup interface\n",
    "root = CTk()\n",
    "prompt_entry = CTkEntry(root, width=400)\n",
    "prompt_entry.pack()"
   ]
  },
  {
   "cell_type": "code",
   "execution_count": 10,
   "id": "0615c4b4",
   "metadata": {},
   "outputs": [],
   "source": [
    "def generate():\n",
    "    prompt = prompt_entry.get()  # Récupérer le texte entré\n",
    "    image = pipe(prompt).images[0]\n",
    "    image.save(\"generatedimage.png\")\n",
    "    img = ImageTk.PhotoImage(image)\n",
    "    lmain.configure(image=img)\n",
    "    lmain.image = img  # éviter le garbage collection"
   ]
  },
  {
   "cell_type": "code",
   "execution_count": 11,
   "id": "6b2b0ff2",
   "metadata": {},
   "outputs": [],
   "source": [
    "# Bouton\n",
    "generate_button = CTkButton(root, text=\"Generate\", command=generate)\n",
    "generate_button.pack()"
   ]
  },
  {
   "cell_type": "code",
   "execution_count": 12,
   "id": "2d7e1d95",
   "metadata": {},
   "outputs": [],
   "source": [
    "# Label pour afficher l'image\n",
    "lmain = tk.Label(root)\n",
    "lmain.pack()"
   ]
  },
  {
   "cell_type": "code",
   "execution_count": null,
   "id": "53ad4ae4",
   "metadata": {},
   "outputs": [],
   "source": [
    "pipe = StableDiffusionPipeline.from_pretrained(\n",
    "    \"C:/Users/Idris/.cache/huggingface/hub/models--CompVis--stable-diffusion-v1-4/snapshots/2880f2ca379f41b0226444936bb7a6766a227587\",  \n",
    "    torch_dtype=torch.float32,\n",
    "    #variant=\"fp16\",\n",
    "    use_safetensors=False\n",
    ")\n",
    "# Si tu es sur CPU, enlève torch_dtype=torch.float16\n",
    "pipe.to(\"cpu\")"
   ]
  },
  {
   "cell_type": "code",
   "execution_count": null,
   "id": "abee03b0",
   "metadata": {},
   "outputs": [
    {
     "data": {
      "application/vnd.jupyter.widget-view+json": {
       "model_id": "c469676abe3645b2bed80194128c9a23",
       "version_major": 2,
       "version_minor": 0
      },
      "text/plain": [
       "  0%|          | 0/50 [00:00<?, ?it/s]"
      ]
     },
     "metadata": {},
     "output_type": "display_data"
    }
   ],
   "source": [
    "root.mainloop()"
   ]
  }
 ],
 "metadata": {
  "kernelspec": {
   "display_name": "Python 3",
   "language": "python",
   "name": "python3"
  },
  "language_info": {
   "codemirror_mode": {
    "name": "ipython",
    "version": 3
   },
   "file_extension": ".py",
   "mimetype": "text/x-python",
   "name": "python",
   "nbconvert_exporter": "python",
   "pygments_lexer": "ipython3",
   "version": "3.10.6"
  }
 },
 "nbformat": 4,
 "nbformat_minor": 5
}
