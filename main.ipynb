{
 "cells": [
  {
   "cell_type": "code",
   "execution_count": 1,
   "id": "20d8c3a8",
   "metadata": {},
   "outputs": [
    {
     "data": {
      "text/plain": [
       "'pipe = StableDiffusionPipeline.from_pretrained(\\n    \"CompVis/stable-diffusion-v1-4\",\\n    use_auth_token=\"your_token_here\",\\n    variant=\"fp16\",  # Remplacer \\'revision\\' par \\'variant\\'\\n    use_safetensors=False\\n)'"
      ]
     },
     "execution_count": 1,
     "metadata": {},
     "output_type": "execute_result"
    }
   ],
   "source": [
    "from customtkinter import *\n",
    "from diffusers import StableDiffusionPipeline\n",
    "import torch\n",
    "from PIL import Image, ImageTk\n",
    "import tkinter as tk\n",
    "\n",
    "# Pipeline\n",
    "\"\"\"pipe = StableDiffusionPipeline.from_pretrained(\n",
    "    \"CompVis/stable-diffusion-v1-4\",\n",
    "    use_auth_token=\"your_token_here\",\n",
    "    variant=\"fp16\",  # Remplacer 'revision' par 'variant'\n",
    "    use_safetensors=False\n",
    ")\"\"\""
   ]
  },
  {
   "cell_type": "code",
   "execution_count": 2,
   "id": "58827171",
   "metadata": {},
   "outputs": [],
   "source": [
    "# Setup interface\n",
    "root = CTk()\n",
    "prompt_entry = CTkEntry(root, width=400)\n",
    "prompt_entry.pack()"
   ]
  },
  {
   "cell_type": "code",
   "execution_count": 3,
   "id": "0615c4b4",
   "metadata": {},
   "outputs": [],
   "source": [
    "def generate():\n",
    "    prompt = prompt_entry.get()  # Récupérer le texte entré\n",
    "    image = pipe(prompt).images[0]\n",
    "    image.save(\"generatedimage.png\")\n",
    "    img = ImageTk.PhotoImage(image)\n",
    "    lmain.configure(image=img)\n",
    "    lmain.image = img  # éviter le garbage collection"
   ]
  },
  {
   "cell_type": "code",
   "execution_count": 4,
   "id": "6b2b0ff2",
   "metadata": {},
   "outputs": [],
   "source": [
    "# Bouton\n",
    "generate_button = CTkButton(root, text=\"Generate\", command=generate)\n",
    "generate_button.pack()"
   ]
  },
  {
   "cell_type": "code",
   "execution_count": 5,
   "id": "2d7e1d95",
   "metadata": {},
   "outputs": [],
   "source": [
    "# Label pour afficher l'image\n",
    "lmain = tk.Label(root)\n",
    "lmain.pack()"
   ]
  },
  {
   "cell_type": "code",
   "execution_count": 6,
   "id": "53ad4ae4",
   "metadata": {},
   "outputs": [
    {
     "data": {
      "application/vnd.jupyter.widget-view+json": {
       "model_id": "73aaa76b75a14abf936a91b53665927c",
       "version_major": 2,
       "version_minor": 0
      },
      "text/plain": [
       "Loading pipeline components...:   0%|          | 0/7 [00:00<?, ?it/s]"
      ]
     },
     "metadata": {},
     "output_type": "display_data"
    },
    {
     "name": "stderr",
     "output_type": "stream",
     "text": [
      "c:\\Users\\Idris\\AppData\\Local\\Programs\\Python\\Python310\\lib\\site-packages\\transformers\\models\\clip\\feature_extraction_clip.py:28: FutureWarning: The class CLIPFeatureExtractor is deprecated and will be removed in version 5 of Transformers. Please use CLIPImageProcessor instead.\n",
      "  warnings.warn(\n",
      "c:\\Users\\Idris\\AppData\\Local\\Programs\\Python\\Python310\\lib\\site-packages\\torch\\_utils.py:831: UserWarning: TypedStorage is deprecated. It will be removed in the future and UntypedStorage will be the only storage class. This should only matter to you if you are using storages directly.  To access UntypedStorage directly, use tensor.untyped_storage() instead of tensor.storage()\n",
      "  return self.fget.__get__(instance, owner)()\n"
     ]
    },
    {
     "data": {
      "text/plain": [
       "StableDiffusionPipeline {\n",
       "  \"_class_name\": \"StableDiffusionPipeline\",\n",
       "  \"_diffusers_version\": \"0.33.1\",\n",
       "  \"_name_or_path\": \"C:/Users/Idris/.cache/huggingface/hub/models--CompVis--stable-diffusion-v1-4/snapshots/2880f2ca379f41b0226444936bb7a6766a227587\",\n",
       "  \"feature_extractor\": [\n",
       "    \"transformers\",\n",
       "    \"CLIPFeatureExtractor\"\n",
       "  ],\n",
       "  \"image_encoder\": [\n",
       "    null,\n",
       "    null\n",
       "  ],\n",
       "  \"requires_safety_checker\": true,\n",
       "  \"safety_checker\": [\n",
       "    \"stable_diffusion\",\n",
       "    \"StableDiffusionSafetyChecker\"\n",
       "  ],\n",
       "  \"scheduler\": [\n",
       "    \"diffusers\",\n",
       "    \"PNDMScheduler\"\n",
       "  ],\n",
       "  \"text_encoder\": [\n",
       "    \"transformers\",\n",
       "    \"CLIPTextModel\"\n",
       "  ],\n",
       "  \"tokenizer\": [\n",
       "    \"transformers\",\n",
       "    \"CLIPTokenizer\"\n",
       "  ],\n",
       "  \"unet\": [\n",
       "    \"diffusers\",\n",
       "    \"UNet2DConditionModel\"\n",
       "  ],\n",
       "  \"vae\": [\n",
       "    \"diffusers\",\n",
       "    \"AutoencoderKL\"\n",
       "  ]\n",
       "}"
      ]
     },
     "execution_count": 6,
     "metadata": {},
     "output_type": "execute_result"
    }
   ],
   "source": [
    "pipe = StableDiffusionPipeline.from_pretrained(\n",
    "    \"C:/Users/Idris/.cache/huggingface/hub/models--CompVis--stable-diffusion-v1-4/snapshots/2880f2ca379f41b0226444936bb7a6766a227587\",  \n",
    "    torch_dtype=torch.float32,\n",
    "    #variant=\"fp16\",\n",
    "    use_safetensors=False\n",
    ")\n",
    "# Si tu es sur CPU, enlève torch_dtype=torch.float16\n",
    "pipe.to(\"cpu\")"
   ]
  },
  {
   "cell_type": "code",
   "execution_count": 7,
   "id": "abee03b0",
   "metadata": {},
   "outputs": [
    {
     "data": {
      "application/vnd.jupyter.widget-view+json": {
       "model_id": "9c499f2f30ee45cc9d290a1adac0e690",
       "version_major": 2,
       "version_minor": 0
      },
      "text/plain": [
       "  0%|          | 0/50 [00:00<?, ?it/s]"
      ]
     },
     "metadata": {},
     "output_type": "display_data"
    }
   ],
   "source": [
    "\n",
    "\n",
    "root.mainloop()"
   ]
  },
  {
   "cell_type": "code",
   "execution_count": null,
   "id": "b38b9fc4",
   "metadata": {},
   "outputs": [],
   "source": []
  }
 ],
 "metadata": {
  "kernelspec": {
   "display_name": "Python 3",
   "language": "python",
   "name": "python3"
  },
  "language_info": {
   "codemirror_mode": {
    "name": "ipython",
    "version": 3
   },
   "file_extension": ".py",
   "mimetype": "text/x-python",
   "name": "python",
   "nbconvert_exporter": "python",
   "pygments_lexer": "ipython3",
   "version": "3.10.6"
  }
 },
 "nbformat": 4,
 "nbformat_minor": 5
}
